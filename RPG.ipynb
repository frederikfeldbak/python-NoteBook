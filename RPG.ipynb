{
 "cells": [
  {
   "cell_type": "markdown",
   "metadata": {},
   "source": [
    "# RPG\n",
    "\n"
   ]
  },
  {
   "cell_type": "markdown",
   "metadata": {},
   "source": [
    "Du træder ind af døren og ser dig rundt i rummet, du se"
   ]
  },
  {
   "cell_type": "code",
   "execution_count": 2,
   "metadata": {},
   "outputs": [
    {
     "name": "stdout",
     "output_type": "stream",
     "text": [
      "Hvilken dør vil du gå ind af ?  Venster\n",
      "du kommer ind af døren og ser nolge folk\n"
     ]
    }
   ],
   "source": [
    "svar = (input(\"Hvilken dør vil du gå ind af ?  \"))\n",
    "\n",
    "    \n",
    "    \n",
    "if svar == \"venster \" or svar==\"Venster\":\n",
    "    print(\"du kommer ind af døren og ser nolge folk\")\n",
    "        \n",
    "elif svar == \"højer\" or svar==\"Højer\":\n",
    "    print (\"du ser intet ud over et tomt rum \")\n",
    "            \n",
    "\n",
    "else: \n",
    "    print(\" dette er desvære ikke en mulighed \")"
   ]
  },
  {
   "cell_type": "code",
   "execution_count": null,
   "metadata": {},
   "outputs": [],
   "source": []
  }
 ],
 "metadata": {
  "kernelspec": {
   "display_name": "Python 3",
   "language": "python",
   "name": "python3"
  },
  "language_info": {
   "codemirror_mode": {
    "name": "ipython",
    "version": 3
   },
   "file_extension": ".py",
   "mimetype": "text/x-python",
   "name": "python",
   "nbconvert_exporter": "python",
   "pygments_lexer": "ipython3",
   "version": "3.7.1"
  }
 },
 "nbformat": 4,
 "nbformat_minor": 2
}
