{
 "cells": [
  {
   "cell_type": "markdown",
   "metadata": {},
   "source": [
    "# Python kursus 2017 "
   ]
  },
  {
   "cell_type": "markdown",
   "metadata": {},
   "source": [
    "## opgave\n"
   ]
  },
  {
   "cell_type": "markdown",
   "metadata": {},
   "source": [
    "Hvad vi du ud regne ? "
   ]
  },
  {
   "cell_type": "code",
   "execution_count": 4,
   "metadata": {},
   "outputs": [
    {
     "name": "stdout",
     "output_type": "stream",
     "text": [
      "første værdi  76\n",
      "anden værdi 76\n",
      "152.0\n",
      "0.0\n",
      "1.0\n",
      "5776.0\n"
     ]
    }
   ],
   "source": [
    "plus1 = float(input(\"første værdi  \")) \n",
    "plus2 = float (input(\"anden værdi \"))\n",
    "\n",
    "print( plus1+plus2)\n",
    "print(plus1-plus2)\n",
    "print(  plus1/plus2)\n",
    "print( plus1*plus2)"
   ]
  },
  {
   "cell_type": "code",
   "execution_count": 5,
   "metadata": {},
   "outputs": [
    {
     "name": "stdout",
     "output_type": "stream",
     "text": [
      "4\n",
      "-2\n",
      "0.3333333333333333\n",
      "3\n"
     ]
    }
   ],
   "source": [
    "def lommeregner (a,b):\n",
    "    print(a+b)\n",
    "    print(a-b)\n",
    "    print(a/b)\n",
    "    print(a*b)\n",
    "    \n",
    "lommeregner(1,3)"
   ]
  },
  {
   "cell_type": "code",
   "execution_count": 6,
   "metadata": {},
   "outputs": [],
   "source": [
    "def SmartCalc ():\n",
    "    a = int(input(\"første tal: \"))\n",
    "    b = int(input (\"anden tal: \" ))\n",
    "    operation = input(\"+,-,*,/:\")\n",
    "  \n",
    "    \n",
    "    if operation == \"+\":\n",
    "        print(a+b)\n",
    "        \n",
    "    elif operation == \"-\":\n",
    "            print (a-b)\n",
    "            \n",
    "    elif operation == \"/\":\n",
    "            print (a/b)\n",
    "            \n",
    "    elif operation == \"*\":\n",
    "            print (a*b)\n",
    " \n",
    "        \n",
    "    else: \n",
    "        print(\"er du dum eller hvad \")\n",
    "     \n",
    "        \n",
    "    "
   ]
  }
 ],
 "metadata": {
  "kernelspec": {
   "display_name": "Python 3",
   "language": "python",
   "name": "python3"
  },
  "language_info": {
   "codemirror_mode": {
    "name": "ipython",
    "version": 3
   },
   "file_extension": ".py",
   "mimetype": "text/x-python",
   "name": "python",
   "nbconvert_exporter": "python",
   "pygments_lexer": "ipython3",
   "version": "3.7.1"
  }
 },
 "nbformat": 4,
 "nbformat_minor": 2
}
