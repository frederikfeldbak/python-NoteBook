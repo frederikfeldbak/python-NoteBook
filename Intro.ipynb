{
 "cells": [
  {
   "cell_type": "markdown",
   "metadata": {},
   "source": [
    "# Python kursus 2017 "
   ]
  },
  {
   "cell_type": "markdown",
   "metadata": {},
   "source": [
    "## opgave\n"
   ]
  },
  {
   "cell_type": "markdown",
   "metadata": {},
   "source": [
    "Hvad vi du ud regne ? "
   ]
  },
  {
   "cell_type": "code",
   "execution_count": 9,
   "metadata": {},
   "outputs": [
    {
     "name": "stdout",
     "output_type": "stream",
     "text": [
      "første værdi  1231\n",
      "anden værdi 1231\n",
      "2462.0\n",
      "0.0\n",
      "1.0\n",
      "1515361.0\n"
     ]
    }
   ],
   "source": [
    "plus1 = float(input(\"første værdi  \")) \n",
    "plus2 = float (input(\"anden værdi \"))\n",
    "\n",
    "print( plus1+plus2)\n",
    "print(plus1-plus2)\n",
    "print(  plus1/plus2)\n",
    "print( plus1*plus2)"
   ]
  },
  {
   "cell_type": "code",
   "execution_count": 10,
   "metadata": {},
   "outputs": [
    {
     "name": "stdout",
     "output_type": "stream",
     "text": [
      "4\n",
      "-2\n",
      "0.3333333333333333\n",
      "3\n"
     ]
    }
   ],
   "source": [
    "def lommeregner (a,b):\n",
    "    print(a+b)\n",
    "    print(a-b)\n",
    "    print(a/b)\n",
    "    print(a*b)\n",
    "    \n",
    "lommeregner(1,3)"
   ]
  },
  {
   "cell_type": "code",
   "execution_count": 11,
   "metadata": {},
   "outputs": [
    {
     "ename": "SyntaxError",
     "evalue": "invalid syntax (<ipython-input-11-37144f995cf1>, line 18)",
     "output_type": "error",
     "traceback": [
      "\u001b[1;36m  File \u001b[1;32m\"<ipython-input-11-37144f995cf1>\"\u001b[1;36m, line \u001b[1;32m18\u001b[0m\n\u001b[1;33m    elif print(\"er det sket en fejl vil du starte forfra ? \")\u001b[0m\n\u001b[1;37m                                                             ^\u001b[0m\n\u001b[1;31mSyntaxError\u001b[0m\u001b[1;31m:\u001b[0m invalid syntax\n"
     ]
    }
   ],
   "source": [
    "def SmartCalc ():\n",
    "    a = int(input(\"første tal: \"))\n",
    "    b = int(input (\"anden tal: \" ))\n",
    "    operation = input(\"+,-,*,/:\")\n",
    "    svar = input(\"ja,nej\")\n",
    "    \n",
    "    if operation == \"+\":\n",
    "        print(a+b)\n",
    "        \n",
    "    elif operation == \"-\":\n",
    "            print (a-b)\n",
    "            \n",
    "    elif operation == \"/\":\n",
    "            print (a/b)\n",
    "            \n",
    "    elif operation == \"*\":\n",
    "            print (a*b)\n",
    "    elif print(\"er det sket en fejl vil du starte forfra ? \")\n",
    "    \n",
    "    elif svar == \"ja\":\n",
    "        def SmartCalc():\n",
    "            \n",
    "    elif svar == \"nej\":\n",
    "        \n",
    "    else: \n",
    "        print(\"er du dum eller hvad \")\n",
    "     \n",
    "        \n",
    "    "
   ]
  },
  {
   "cell_type": "code",
   "execution_count": null,
   "metadata": {},
   "outputs": [],
   "source": [
    "SmartCalc()"
   ]
  },
  {
   "cell_type": "code",
   "execution_count": null,
   "metadata": {},
   "outputs": [],
   "source": [
    "def Return():\n",
    "    if = input(\"r\")"
   ]
  }
 ],
 "metadata": {
  "kernelspec": {
   "display_name": "Python 3",
   "language": "python",
   "name": "python3"
  }
 },
 "nbformat": 4,
 "nbformat_minor": 2
}
